{
 "cells": [
  {
   "cell_type": "markdown",
   "id": "e37002dd-f4a3-43e5-9d78-092e2b4cee20",
   "metadata": {},
   "source": [
    "# Criar uma lista de frutas (bananas, maçãs, peras, uvas, laranjas) e fazer um algoritmo para consultar se uma fruta existe na lista. Caso não exista, adicionar a nova fruta. O programa só deve encerrar a brincadeira quando o usuário informar o número 999"
   ]
  },
  {
   "cell_type": "code",
   "execution_count": null,
   "id": "b2f72d23-e12f-497c-aa17-1ad7da3d27d6",
   "metadata": {
    "tags": []
   },
   "outputs": [],
   "source": [
    "# Lista inicial de frutas\n",
    "frutas = [\"bananas\", \"maçãs\", \"peras\", \"uvas\", \"laranjas\"]\n",
    "\n",
    "while True:\n",
    "    # Solicita ao usuário que informe o nome de uma fruta\n",
    "    fruta = input(\"Digite o nome de uma fruta para consultar ou adicionar (ou digite '999' para encerrar): \").lower()\n",
    "\n",
    "    # Verifica se o usuário deseja encerrar o programa\n",
    "    if fruta == \"999\":\n",
    "        print(\"Encerrando o programa...\")\n",
    "        break\n",
    "\n",
    "    # Verifica se a fruta já está na lista\n",
    "    if fruta in frutas:\n",
    "        print(f\"A fruta {fruta} já está na lista.\")\n",
    "    else:\n",
    "        # Se a fruta não estiver na lista, adiciona\n",
    "        frutas.append(fruta)\n",
    "        print(f\"A fruta {fruta} foi adicionada à lista.\")\n",
    "\n",
    "    # Exibe a lista atualizada de frutas\n",
    "    print(\"Lista atual de frutas:\", frutas)"
   ]
  }
 ],
 "metadata": {
  "kernelspec": {
   "display_name": "Python 3 (ipykernel)",
   "language": "python",
   "name": "python3"
  },
  "language_info": {
   "codemirror_mode": {
    "name": "ipython",
    "version": 3
   },
   "file_extension": ".py",
   "mimetype": "text/x-python",
   "name": "python",
   "nbconvert_exporter": "python",
   "pygments_lexer": "ipython3",
   "version": "3.10.9"
  }
 },
 "nbformat": 4,
 "nbformat_minor": 5
}
