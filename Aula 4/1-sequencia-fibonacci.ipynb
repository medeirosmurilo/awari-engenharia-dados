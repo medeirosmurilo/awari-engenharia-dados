{
 "cells": [
  {
   "cell_type": "markdown",
   "id": "9661329c-5620-4f62-87c5-0a912bd6768f",
   "metadata": {},
   "source": [
    "# Algoritmo que liste toda a sequência de Fibonacci até o número 100"
   ]
  },
  {
   "cell_type": "code",
   "execution_count": 6,
   "id": "a6d2be65-7af2-41e2-aebd-bcd3ac1e81d0",
   "metadata": {
    "tags": []
   },
   "outputs": [
    {
     "name": "stdout",
     "output_type": "stream",
     "text": [
      "Sequência de Fibonacci até 100: [0, 1, 1, 2, 3, 5, 8, 13, 21, 34, 55, 89]\n"
     ]
    }
   ],
   "source": [
    "def fibonacci_until_100():\n",
    "    # Lista para armazenar a sequência de Fibonacci\n",
    "    sequence = [0, 1]\n",
    "    \n",
    "    # Gera a sequência enquanto o próximo número for menor ou igual a 100\n",
    "    while True:\n",
    "        next_value = sequence[-1] + sequence[-2]  # Soma dos dois últimos números\n",
    "        if next_value > 100:  # Interrompe se o próximo número exceder 100\n",
    "            break\n",
    "        sequence.append(next_value)\n",
    "    \n",
    "    return sequence\n",
    "\n",
    "# Chama a função e exibe a sequência\n",
    "fibonacci_sequence = fibonacci_until_100()\n",
    "print(\"Sequência de Fibonacci até 100:\", fibonacci_sequence)"
   ]
  }
 ],
 "metadata": {
  "kernelspec": {
   "display_name": "Python 3 (ipykernel)",
   "language": "python",
   "name": "python3"
  },
  "language_info": {
   "codemirror_mode": {
    "name": "ipython",
    "version": 3
   },
   "file_extension": ".py",
   "mimetype": "text/x-python",
   "name": "python",
   "nbconvert_exporter": "python",
   "pygments_lexer": "ipython3",
   "version": "3.10.9"
  }
 },
 "nbformat": 4,
 "nbformat_minor": 5
}
