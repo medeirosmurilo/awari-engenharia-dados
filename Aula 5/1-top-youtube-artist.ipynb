{
 "cells": [
  {
   "cell_type": "markdown",
   "id": "b8bf2cb8-d777-4ed8-bfad-0e0d98a8a1fb",
   "metadata": {},
   "source": [
    "# Fazer download do dataset Top Youtube Artists, do Kaggle"
   ]
  },
  {
   "cell_type": "code",
   "execution_count": 2,
   "id": "ab2ec600-1e4a-4937-9fa1-f461753ab0c8",
   "metadata": {
    "tags": []
   },
   "outputs": [],
   "source": [
    "import pandas as pd\n",
    "\n",
    "# Passo 1: Carregar o dataset\n",
    "file_path = 'topyoutube.csv'\n",
    "df = pd.read_csv(file_path)"
   ]
  },
  {
   "cell_type": "code",
   "execution_count": 3,
   "id": "abad1958-69c9-4de6-8743-b9ccf7c00502",
   "metadata": {
    "tags": []
   },
   "outputs": [],
   "source": [
    "# Passo 2: Tratar as colunas sem informação\n",
    "# Substituir valores ausentes ou NaN por \"Não informado\"\n",
    "df.fillna(\"Não informado\", inplace=True)"
   ]
  },
  {
   "cell_type": "code",
   "execution_count": null,
   "id": "abaf05cf-6932-42b6-b0e1-648b36743e52",
   "metadata": {
    "tags": []
   },
   "outputs": [],
   "source": [
    "# Passo 3: Formatar a coluna 'Total Views' multiplicando por 100 milhões\n",
    "df['Total Views'] = df['Total Views'] * 100_000_000"
   ]
  },
  {
   "cell_type": "code",
   "execution_count": null,
   "id": "93f20a06-e3e3-43bf-a417-595da1078a3c",
   "metadata": {},
   "outputs": [],
   "source": [
    "# Passo 4: Formatar a coluna 'Avg' para 2 casas decimais\n",
    "df['Avg'] = df['Avg'].round(2)"
   ]
  },
  {
   "cell_type": "code",
   "execution_count": null,
   "id": "4f32076f-24d1-4253-b345-3ac033205212",
   "metadata": {},
   "outputs": [],
   "source": [
    "# Passo 5: Mostrar os top 10 usuários com maior número de visualizações\n",
    "top_10 = df.nlargest(10, 'Total Views')\n",
    "print(\"Top 10 usuários com maior número de inscritos:\")\n",
    "print(top_10[['Name', 'Total Subscribers']])"
   ]
  },
  {
   "cell_type": "code",
   "execution_count": null,
   "id": "63f9c43a-38cb-4b4b-a0f4-d6d7a4f9b116",
   "metadata": {},
   "outputs": [],
   "source": [
    "# Passo 6: Mostrar os primeiros 100 usuários por nome em ordem decrescente\n",
    "top_100_sorted = df.sort_values(by='Artist', ascending=False).head(100)\n",
    "print(\"\\nPrimeiros 100 usuários por nome em ordem decrescente:\")\n",
    "print(top_100_sorted[['Name', 'Total Views']])"
   ]
  },
  {
   "cell_type": "code",
   "execution_count": null,
   "id": "544e22b7-d86f-4482-9066-32e997fa2ced",
   "metadata": {},
   "outputs": [],
   "source": [
    "# Passo 7: Salvar o DataFrame tratado em um novo arquivo CSV\n",
    "df.to_csv('Top_Youtube_Tratado.csv', index=False)\n",
    "\n",
    "print(\"\\nArquivo CSV tratado foi salvo com sucesso!\")"
   ]
  }
 ],
 "metadata": {
  "kernelspec": {
   "display_name": "Python 3 (ipykernel)",
   "language": "python",
   "name": "python3"
  },
  "language_info": {
   "codemirror_mode": {
    "name": "ipython",
    "version": 3
   },
   "file_extension": ".py",
   "mimetype": "text/x-python",
   "name": "python",
   "nbconvert_exporter": "python",
   "pygments_lexer": "ipython3",
   "version": "3.10.9"
  }
 },
 "nbformat": 4,
 "nbformat_minor": 5
}
